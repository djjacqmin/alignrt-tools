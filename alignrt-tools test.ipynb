{
 "cells": [
  {
   "cell_type": "code",
   "execution_count": 1,
   "metadata": {},
   "outputs": [],
   "source": [
    "# Import AlignRT Libraries\n",
    "from alignrt_tools import PatientCollection\n",
    "\n",
    "# Define AlignRT data path\n",
    "sgrt_path = 'Sample_Directory'\n",
    "\n",
    "test_pc = PatientCollection(sgrt_path)\n",
    "\n",
    "\n"
   ]
  },
  {
   "cell_type": "code",
   "execution_count": 5,
   "metadata": {},
   "outputs": [
    {
     "name": "stdout",
     "output_type": "stream",
     "text": [
      "20170307JHV\n",
      "20150925ZEL\n",
      "OSMS-IPA\n",
      "20160804MG\n",
      "20170912\n",
      "20170303ZEL\n",
      "SVS CAP HET\n",
      "20170308\n",
      "20170327DJJ\n",
      "VRTQAPhantom_\n"
     ]
    }
   ],
   "source": [
    " for patient in test_pc.patients:\n",
    "    print(patient.patient_id)"
   ]
  },
  {
   "cell_type": "code",
   "execution_count": 13,
   "metadata": {},
   "outputs": [
    {
     "data": {
      "text/plain": [
       "{'DOB': '2016-08-04T00:00:00',\n",
       " 'Description': None,\n",
       " 'FirstName': 'CHEESE E2D',\n",
       " 'GUID': 'c0a673b9-c3ae-4d87-a57f-aa4d73d019a4',\n",
       " 'IsFromDicom': 'false',\n",
       " 'LatestApprovedRecordSurfaceTimestamp': '170611 144717',\n",
       " 'MiddleName': None,\n",
       " 'Notes': None,\n",
       " 'PatientID': '20160804MG',\n",
       " 'PatientVersion': '5.0.1747',\n",
       " 'Sex': 'Other',\n",
       " 'Sites': {'Site': {'Description': 'Chest',\n",
       "   'GUID': '87625f97-25aa-4c60-9aab-a0523baa986b',\n",
       "   'IsFromDicom': 'false',\n",
       "   'Phases': {'Phase': {'Description': '6FFF (0.01 ,-24.54 ,-50.00)',\n",
       "     'DicomRTPlanUID': '1.2.246.352.71.5.508639987643.293152.20170608143305',\n",
       "     'Fields': {'Field': {'Description': 'ISOCENTER FIELD',\n",
       "       'GUID': 'c9cfa1f5-0ef9-4b96-8111-e3b064cb7e42',\n",
       "       'IsFromDicom': 'false',\n",
       "       'IsIsoCenterField': 'true',\n",
       "       'IsoRotValue': '0',\n",
       "       'LatestApprovedSurfaceDateTimeStamp': '170611 144717',\n",
       "       'RepresentedCouchRotation': '0'}},\n",
       "     'GUID': '6bba56e9-664d-4361-bc5f-99f2eab8176b',\n",
       "     'IsApproved': 'true',\n",
       "     'IsFromDicom': 'true',\n",
       "     'IsoXValue': '0.0100006',\n",
       "     'IsoYValue': '-24.54',\n",
       "     'IsoZValue': '-50'}}}},\n",
       " 'Surname': 'ZZUWQA_EAST'}"
      ]
     },
     "execution_count": 13,
     "metadata": {},
     "output_type": "execute_result"
    }
   ],
   "source": [
    "import xml.etree.ElementTree as ET\n",
    "from datetime import datetime\n",
    "import dateutil.parser\n",
    "\n",
    "tree = ET.parse(\"Sample_Directory/20160804MG/Patient Details.vpax\").getroot()\n",
    "\n",
    "def anydup(thelist):\n",
    "    seen = set()\n",
    "    for x in thelist:\n",
    "        if x in seen: return True\n",
    "        seen.add(x)\n",
    "    return False\n",
    "\n",
    "def etree_to_dict(t,enumerated=False):\n",
    "    d={}\n",
    "    count=1\n",
    "    \n",
    "    for child in t:\n",
    "        # Construct key name\n",
    "        if enumerated:\n",
    "            key = '{}-{}'.format(child.tag,count)\n",
    "        else: \n",
    "            key = child.tag\n",
    "        \n",
    "        # Determine if the child has children\n",
    "        if len(child)>0:\n",
    "            # enumberate the children?\n",
    "            enum = anydup([ele.tag for ele in child])\n",
    "            d[key] = etree_to_dict(child,enum)\n",
    "            count=count+1\n",
    "        else:\n",
    "            d[child.tag] = child.text\n",
    "        \n",
    "    return d\n",
    "\n",
    "tree_d = etree_to_dict(tree)\n",
    "\n",
    "tree_d"
   ]
  },
  {
   "cell_type": "code",
   "execution_count": null,
   "metadata": {},
   "outputs": [],
   "source": []
  }
 ],
 "metadata": {
  "anaconda-cloud": {},
  "kernelspec": {
   "display_name": "Python 3",
   "language": "python",
   "name": "python3"
  },
  "language_info": {
   "codemirror_mode": {
    "name": "ipython",
    "version": 3
   },
   "file_extension": ".py",
   "mimetype": "text/x-python",
   "name": "python",
   "nbconvert_exporter": "python",
   "pygments_lexer": "ipython3",
   "version": "3.6.4"
  }
 },
 "nbformat": 4,
 "nbformat_minor": 1
}
