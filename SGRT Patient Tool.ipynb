{
 "cells": [
  {
   "cell_type": "code",
   "execution_count": 1,
   "metadata": {},
   "outputs": [],
   "source": [
    "# Import Standard Libraries\n",
    "import os.path, time\n",
    "import glob\n",
    "import pdb\n",
    "\n",
    "# Import SGRT Libraries\n",
    "import SGRTFileReaders as fs\n",
    "\n",
    "sgrt_path = ('Sample_Directory')\n",
    "\n",
    "class PatientDetails:\n",
    "    \"\"\"The PatientDeatils class contains attributes and methods for reading and storing \n",
    "    information from the 'Patient Details.ini' and 'Patient Details.vpax' files.\"\"\"\n",
    "    \n",
    "    # Attributes\n",
    "    path = [] # the full path to this patient\n",
    "    \n",
    "    # Methods\n",
    "    def __init__(self,path):\n",
    "        self.path = path\n",
    "        self.pdini = fs.read_PatientDetails_ini(path)\n",
    "        self.pdvpax = fs.read_PatientDetails_vpax(path)\n",
    "    \n",
    "class Patient:\n",
    "    \"\"\"The Patient class contains attributes and methods that pertain to an individual OSMS/AlignRT patient\"\"\"\n",
    "    \n",
    "    # Attributes\n",
    "    path = [] # the full path to this patient\n",
    "    mrn = [] # the MRN of this patient\n",
    "    patient_details = [] # information derived from the Patient Details files\n",
    "    last_treatment = [] # DateTime object containing the last treatment\n",
    "    \n",
    "    # Methods\n",
    "    def __init__(self,mrn,path):\n",
    "        self.path = path\n",
    "        self.mrn = mrn\n",
    "        self.patient_details = PatientDetails(path)\n",
    "        self.last_treatment =  self.get_last_treatment(path)\n",
    "        \n",
    "    def get_last_treatment(self,path):\n",
    "        print(path)\n",
    "        list_of_reports = glob.glob('{0}/Reports/*'.format(path)) # * means all if need specific format then *.csv\n",
    "        if not list_of_reports:\n",
    "            # list of reports is empty\n",
    "            print(\"Reports is empty\")\n",
    "            return 0\n",
    "        else:\n",
    "            latest_file = max(list_of_reports, key=os.path.getctime)\n",
    "            print(time.ctime(os.path.getctime(latest_file)))\n",
    "            return time.ctime(os.path.getctime(latest_file))\n",
    "\n",
    "def SGRT_Patient_Tool():\n",
    "    print('Welcome to the SGRT Patient Tool')\n",
    "    \n",
    "    # Get a list of the subdirectories in the sgrt_path\n",
    "    sgrt_folders = [name for name in os.listdir(sgrt_path) if os.path.isdir(os.path.join(sgrt_path, name))]\n",
    "        \n",
    "    # Determine which of the folders correspond to patients\n",
    "    sgrt_patients = []\n",
    "    for folder in sgrt_folders:\n",
    "        if (os.path.isfile('{0}/{1}/Patient Details.ini'.format(sgrt_path,folder)) or \n",
    "            os.path.isfile('{0}/{1}/Patient_Details.ini'.format(sgrt_path,folder))):\n",
    "            sgrt_patients.append(Patient(folder,'{0}/{1}'.format(sgrt_path,folder)))\n",
    "    \n",
    "    print('There are {0} patient folders in {1}'.format(len(sgrt_patients),sgrt_path))\n",
    "    for patient in sgrt_patients:\n",
    "        print(patient.mrn)\n",
    "        vpax = patient.patient_details.pdvpax\n",
    "        print(vpax['PatientID'])"
   ]
  },
  {
   "cell_type": "code",
   "execution_count": 2,
   "metadata": {},
   "outputs": [
    {
     "name": "stdout",
     "output_type": "stream",
     "text": [
      "Welcome to the SGRT Patient Tool\n",
      "Sample_Directory/20170307JHV\n",
      "Wed Jan 31 16:48:44 2018\n",
      "Sample_Directory/20150925ZEL\n",
      "Wed Jan 31 16:48:42 2018\n",
      "Sample_Directory/OSMS-IPA\n",
      "Wed Jan 31 16:48:47 2018\n",
      "Sample_Directory/20160804MG\n",
      "Wed Jan 31 16:48:42 2018\n",
      "Sample_Directory/20170912\n",
      "Wed Jan 31 16:48:45 2018\n",
      "Sample_Directory/20170303ZEL\n",
      "Wed Jan 31 16:48:43 2018\n",
      "Sample_Directory/SVS CAP HET\n",
      "Wed Jan 31 16:48:47 2018\n",
      "Sample_Directory/20170308\n",
      "Wed Jan 31 16:48:45 2018\n",
      "Sample_Directory/20170327DJJ\n",
      "Reports is empty\n",
      "Sample_Directory/VRTQAPhantom_\n",
      "Wed Jan 31 16:48:47 2018\n",
      "There are 10 patient folders in Sample_Directory\n",
      "20170307JHV\n",
      "20170307JHV\n",
      "20150925ZEL\n",
      "20150925ZEL\n",
      "OSMS-IPA\n",
      "OSMS-IPA\n",
      "20160804MG\n",
      "20160804MG\n",
      "20170912\n",
      "20170912\n",
      "20170303ZEL\n",
      "20170303ZEL\n",
      "SVS CAP HET\n",
      "SVS CAP HET\n",
      "20170308\n",
      "20170308\n",
      "20170327DJJ\n",
      "20170327DJJ\n",
      "VRTQAPhantom_\n",
      "VRTQAPhantom_\n"
     ]
    }
   ],
   "source": [
    "SGRT_Patient_Tool()"
   ]
  },
  {
   "cell_type": "code",
   "execution_count": 3,
   "metadata": {},
   "outputs": [
    {
     "name": "stdout",
     "output_type": "stream",
     "text": [
      "[Patient Details]\n",
      "PatientGUID=319aadc3-481d-4dc3-bd60-bd934e0f588c\n",
      "Prefix=-\n",
      "Firstname=WinstonLutzTests\n",
      "Middlename=\n",
      "Surname=ZZUWQA\n",
      "Name=WinstonLutzTests ZZUWQA (Other)\n",
      "Skintone=0\n",
      "Version=5.0.1749.273\n",
      "Notes=\n",
      "[Treatment Site]\n",
      "Other_Notes=\n",
      "\n"
     ]
    }
   ],
   "source": [
    "thisfile = open(\"Sample_Directory/20150925ZEL/Patient_Details.ini\",'r')\n",
    "print(thisfile.read())\n",
    "thisfile.close()"
   ]
  },
  {
   "cell_type": "code",
   "execution_count": 23,
   "metadata": {},
   "outputs": [
    {
     "data": {
      "text/plain": [
       "'319aadc3-481d-4dc3-bd60-bd934e0f588c'"
      ]
     },
     "execution_count": 23,
     "metadata": {},
     "output_type": "execute_result"
    }
   ],
   "source": [
    "import xml.etree.ElementTree as ET\n",
    "from datetime import datetime\n",
    "import dateutil.parser\n",
    "\n",
    "root = ET.parse(\"Sample_Directory/20150925ZEL/Patient_Details.vpax\").getroot()\n",
    "\n",
    "dateutil.parser.parse(root.find('DOB').text)\n",
    "\n",
    "root.find('GUID').text"
   ]
  },
  {
   "cell_type": "code",
   "execution_count": 19,
   "metadata": {},
   "outputs": [
    {
     "data": {
      "text/plain": [
       "'2015-09-25T00:00:00'"
      ]
     },
     "execution_count": 19,
     "metadata": {},
     "output_type": "execute_result"
    }
   ],
   "source": [
    "root.find('DOB').text"
   ]
  },
  {
   "cell_type": "code",
   "execution_count": 7,
   "metadata": {},
   "outputs": [
    {
     "data": {
      "text/plain": [
       "{'DOB': '2015-09-25T00:00:00',\n",
       " 'Description': None,\n",
       " 'FirstName': 'WinstonLutzTests',\n",
       " 'GUID': '319aadc3-481d-4dc3-bd60-bd934e0f588c',\n",
       " 'IsFromDicom': 'false',\n",
       " 'LastUsedPlotterType': '0',\n",
       " 'LatestApprovedRecordSurfaceTimestamp': '171010 213300',\n",
       " 'MiddleName': None,\n",
       " 'Notes': None,\n",
       " 'PatientID': '20150925ZEL',\n",
       " 'PatientTextureLuminosity': '0',\n",
       " 'PatientVersion': '5.0.1749.273',\n",
       " 'Sex': 'Other',\n",
       " 'Sites': {'Site': {'Description': 'Right Breast',\n",
       "   'GUID': '0e838256-2cb9-471e-8e19-a638c8d8c093',\n",
       "   'IsFromDicom': 'false',\n",
       "   'Phases': {'Phase': {'Description': 'TB2871 (0.01 ,-15.66 ,28.08)',\n",
       "     'DicomRTPlanUID': '1.2.246.352.71.5.508639987643.299285.20171005161823',\n",
       "     'Fields': {'Field': {'Description': 'ISOCENTER FIELD',\n",
       "       'GUID': '7db3a5c4-7110-48e2-948c-d7b34b2c49c5',\n",
       "       'IsFromDicom': 'false',\n",
       "       'IsIsoCenterField': 'true',\n",
       "       'IsoRotValue': '345',\n",
       "       'LatestApprovedSurfaceDateTimeStamp': '171010 213300',\n",
       "       'RepresentedCouchRotation': '0'}},\n",
       "     'GUID': 'cd7057d8-4702-4536-8a75-fc859e90a9ff',\n",
       "     'IsApproved': 'true',\n",
       "     'IsDynamicBeamType': 'false',\n",
       "     'IsFromDicom': 'true',\n",
       "     'IsoXValue': '0.0053358458999999995',\n",
       "     'IsoYValue': '-15.65997863538',\n",
       "     'IsoZValue': '28.0835736677116'}}}},\n",
       " 'Surname': 'ZZUWQA'}"
      ]
     },
     "execution_count": 7,
     "metadata": {},
     "output_type": "execute_result"
    }
   ],
   "source": [
    "tree = ET.parse(\"Sample_Directory/20150925ZEL/Patient_Details.vpax\").getroot()\n",
    "\n",
    "def anydup(thelist):\n",
    "    seen = set()\n",
    "    for x in thelist:\n",
    "        if x in seen: return True\n",
    "        seen.add(x)\n",
    "    return False\n",
    "\n",
    "def etree_to_dict(t,enumerated=False):\n",
    "    d={}\n",
    "    count=1\n",
    "    \n",
    "    for child in t:\n",
    "        # Construct key name\n",
    "        if enumerated:\n",
    "            key = '{}-{}'.format(child.tag,count)\n",
    "        else: \n",
    "            key = child.tag\n",
    "        \n",
    "        # Determine if the child has children\n",
    "        if len(child)>0:\n",
    "            # enumberate the children?\n",
    "            enum = anydup([ele.tag for ele in child])\n",
    "            d[key] = etree_to_dict(child,enum)\n",
    "            count=count+1\n",
    "        else:\n",
    "            d[child.tag] = child.text\n",
    "        \n",
    "    return d\n",
    "\n",
    "tree_d = etree_to_dict(tree)\n",
    "\n",
    "tree_d"
   ]
  },
  {
   "cell_type": "code",
   "execution_count": null,
   "metadata": {},
   "outputs": [],
   "source": [
    "import numpy as np\n",
    "import pandas as pd\n",
    "\n",
    "filename = 'Sample_Directory/20170308/170822 210129/Monitoring_171011_054721/RealTimeDeltas_171011_054721.txt'\n",
    "df = pd.read_csv(filename,skiprows=11)\n",
    "\n",
    "df[df[' Translation (cm)'] < 10].head()\n",
    "df."
   ]
  },
  {
   "cell_type": "code",
   "execution_count": null,
   "metadata": {},
   "outputs": [],
   "source": [
    "dfb = df[(df[' Translation (cm)'] < 1) & (df[' XRayState'] == 1)]\n",
    "\n",
    "df[df[' XRayState'] == 1]['Elapsed Time (sec)'].max()"
   ]
  },
  {
   "cell_type": "code",
   "execution_count": null,
   "metadata": {},
   "outputs": [],
   "source": [
    "import matplotlib.pyplot as plt\n",
    "from math import ceil\n",
    "%matplotlib inline\n",
    "\n",
    "plt.rcParams[\"figure.figsize\"] = (12,5)\n",
    "fig = plt.figure()\n",
    "ax = df.plot(sharex='Elapsed Time (sec)',y=[' D.LAT (cm)',' D.LNG (cm)',' D.VRT (cm)',' Translation (cm)'],\n",
    "              linewidth=1)\n",
    "ax.fill_between(df['Elapsed Time (sec)'], -1.0*np.ones(len(df['Elapsed Time (sec)'])),2*df[' XRayState']-1,color='r',alpha=.4)\n",
    "\n",
    "# determine last moment of beam on\n",
    "\n",
    "ax.set_ylim(-.1,.1)\n",
    "ax.set_xlim(0,ceil(df[df[' XRayState'] == 1]['Elapsed Time (sec)'].max())+10)\n",
    "ax.legend(loc=3)\n",
    "ax.set_title(filename)\n",
    "ax.set_xlabel('Elapsed Time (sec)')\n",
    "ax.set_ylabel('Real-time Deltas (cm)');"
   ]
  },
  {
   "cell_type": "code",
   "execution_count": null,
   "metadata": {},
   "outputs": [],
   "source": [
    "dfb[[' D.LAT (cm)',' D.LNG (cm)',' D.VRT (cm)']].plot.hist(stacked=True, bins=50)\n"
   ]
  },
  {
   "cell_type": "code",
   "execution_count": null,
   "metadata": {},
   "outputs": [],
   "source": []
  },
  {
   "cell_type": "code",
   "execution_count": null,
   "metadata": {},
   "outputs": [],
   "source": []
  }
 ],
 "metadata": {
  "anaconda-cloud": {},
  "kernelspec": {
   "display_name": "Python 3",
   "language": "python",
   "name": "python3"
  }
 },
 "nbformat": 4,
 "nbformat_minor": 1
}
