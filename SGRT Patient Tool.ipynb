{
 "cells": [
  {
   "cell_type": "code",
   "execution_count": 34,
   "metadata": {
    "collapsed": false
   },
   "outputs": [],
   "source": [
    "# Import Standard Libraries\n",
    "import os\n",
    "import xml.etree.ElementTree as ET\n",
    "import glob\n",
    "import pdb\n",
    "\n",
    "# Import SGRT Libraries\n",
    "import SGRTFileReaders as fs\n",
    "\n",
    "sgrt_path = ('Y:\\\\AlignRT Backup\\\\Room A')\n",
    "\n",
    "class PatientDetails:\n",
    "    \"\"\"The PatientDeatils class contains attributes and methods for reading and storing \n",
    "    information from the 'Patient Details.ini' and 'Patient Details.vpax' files.\"\"\"\n",
    "    \n",
    "    # Attributes\n",
    "    path = [] # the full path to this patient\n",
    "    \n",
    "    # Methods\n",
    "    def __init__(self,path):\n",
    "        self.path = path\n",
    "        fs.read_PatientDetails_ini(path)\n",
    "        fs.read_PatientDetails_vpax(path)\n",
    "    \n",
    "class Patient:\n",
    "    \"\"\"The Patient class contains attributes and methods that pertain to an individual OSMS/AlignRT patient\"\"\"\n",
    "    \n",
    "    # Attributes\n",
    "    path = [] # the full path to this patient\n",
    "    mrn = [] # the MRN of this patient\n",
    "    patient_details = [] # information derived from the Patient Details files\n",
    "    last_treatment = [] # DateTime object containing the last treatment\n",
    "    \n",
    "    # Methods\n",
    "    def __init__(self,mrn,path):\n",
    "        self.path = path\n",
    "        self.mrn = mrn\n",
    "        self.patient_details = PatientDetails(path)\n",
    "        self.last_treatment =  self.get_last_treatment(path)\n",
    "        \n",
    "    def get_last_treatment(self,path):\n",
    "        print path\n",
    "        list_of_reports = glob.glob('{0}\\\\Reports\\\\*'.format(path)) # * means all if need specific format then *.csv\n",
    "        latest_file = max(list_of_reports, key=os.path.getctime)\n",
    "        print latest_file\n",
    "        return latest_file\n",
    "\n",
    "def SGRT_Patient_Tool():\n",
    "    print('Welcome to the SGRT Patient Tool')\n",
    "    \n",
    "    # Get a list of the subdirectories in the sgrt_path\n",
    "    sgrt_folders = [name for name in os.listdir(sgrt_path) if os.path.isdir(os.path.join(sgrt_path, name))]\n",
    "        \n",
    "    # Determine which of the folders correspond to patients\n",
    "    sgrt_patients = []\n",
    "    for folder in sgrt_folders:\n",
    "        if (os.path.isfile('{0}\\\\{1}\\\\Patient Details.ini'.format(sgrt_path,folder)) or \n",
    "            os.path.isfile('{0}\\\\{1}\\\\Patient_Details.ini'.format(sgrt_path,folder))):\n",
    "            sgrt_patients.append(Patient(folder,'{0}\\\\{1}'.format(sgrt_path,folder)))\n",
    "    \n",
    "    print('There are {0} patient folders in {1}'.format(len(sgrt_patients),sgrt_path))\n",
    "    for patient in sgrt_patients:\n",
    "        print(patient.mrn)\n",
    "        print(patient.last_treatment)\n",
    "        "
   ]
  },
  {
   "cell_type": "code",
   "execution_count": 35,
   "metadata": {
    "collapsed": false
   },
   "outputs": [
    {
     "name": "stdout",
     "output_type": "stream",
     "text": [
      "Welcome to the SGRT Patient Tool\n",
      "Y:\\AlignRT Backup\\Room A\\20160804MG\n",
      "Y:\\AlignRT Backup\\Room A\\20160804MG\\Reports\\20160804MG_170611_165801_TreatmentReport.pdf\n",
      "Y:\\AlignRT Backup\\Room A\\20170303ZEL\n",
      "Y:\\AlignRT Backup\\Room A\\20170303ZEL\\Reports\\20170303ZEL_170307_095804_TreatmentReport.pdf\n",
      "Y:\\AlignRT Backup\\Room A\\20170307JHV\n",
      "Y:\\AlignRT Backup\\Room A\\20170307JHV\\Reports\\20170307JHV_170307_173922_TreatmentReport.pdf\n",
      "Y:\\AlignRT Backup\\Room A\\20170308\n",
      "Y:\\AlignRT Backup\\Room A\\20170308\\Reports\\VisionRT_AlignRT__20170308_20171214060050.xml\n",
      "Y:\\AlignRT Backup\\Room A\\20170327DJJ\n"
     ]
    },
    {
     "ename": "ValueError",
     "evalue": "max() arg is an empty sequence",
     "output_type": "error",
     "traceback": [
      "\u001b[0;31m---------------------------------------------------------------------------\u001b[0m",
      "\u001b[0;31mValueError\u001b[0m                                Traceback (most recent call last)",
      "\u001b[0;32m<ipython-input-35-a0989a2cfe30>\u001b[0m in \u001b[0;36m<module>\u001b[0;34m()\u001b[0m\n\u001b[0;32m----> 1\u001b[0;31m \u001b[0mSGRT_Patient_Tool\u001b[0m\u001b[1;33m(\u001b[0m\u001b[1;33m)\u001b[0m\u001b[1;33m\u001b[0m\u001b[0m\n\u001b[0m",
      "\u001b[0;32m<ipython-input-34-c29479fa2413>\u001b[0m in \u001b[0;36mSGRT_Patient_Tool\u001b[0;34m()\u001b[0m\n\u001b[1;32m     57\u001b[0m         if (os.path.isfile('{0}\\\\{1}\\\\Patient Details.ini'.format(sgrt_path,folder)) or \n\u001b[1;32m     58\u001b[0m             os.path.isfile('{0}\\\\{1}\\\\Patient_Details.ini'.format(sgrt_path,folder))):\n\u001b[0;32m---> 59\u001b[0;31m             \u001b[0msgrt_patients\u001b[0m\u001b[1;33m.\u001b[0m\u001b[0mappend\u001b[0m\u001b[1;33m(\u001b[0m\u001b[0mPatient\u001b[0m\u001b[1;33m(\u001b[0m\u001b[0mfolder\u001b[0m\u001b[1;33m,\u001b[0m\u001b[1;34m'{0}\\\\{1}'\u001b[0m\u001b[1;33m.\u001b[0m\u001b[0mformat\u001b[0m\u001b[1;33m(\u001b[0m\u001b[0msgrt_path\u001b[0m\u001b[1;33m,\u001b[0m\u001b[0mfolder\u001b[0m\u001b[1;33m)\u001b[0m\u001b[1;33m)\u001b[0m\u001b[1;33m)\u001b[0m\u001b[1;33m\u001b[0m\u001b[0m\n\u001b[0m\u001b[1;32m     60\u001b[0m \u001b[1;33m\u001b[0m\u001b[0m\n\u001b[1;32m     61\u001b[0m     \u001b[1;32mprint\u001b[0m\u001b[1;33m(\u001b[0m\u001b[1;34m'There are {0} patient folders in {1}'\u001b[0m\u001b[1;33m.\u001b[0m\u001b[0mformat\u001b[0m\u001b[1;33m(\u001b[0m\u001b[0mlen\u001b[0m\u001b[1;33m(\u001b[0m\u001b[0msgrt_patients\u001b[0m\u001b[1;33m)\u001b[0m\u001b[1;33m,\u001b[0m\u001b[0msgrt_path\u001b[0m\u001b[1;33m)\u001b[0m\u001b[1;33m)\u001b[0m\u001b[1;33m\u001b[0m\u001b[0m\n",
      "\u001b[0;32m<ipython-input-34-c29479fa2413>\u001b[0m in \u001b[0;36m__init__\u001b[0;34m(self, mrn, path)\u001b[0m\n\u001b[1;32m     37\u001b[0m         \u001b[0mself\u001b[0m\u001b[1;33m.\u001b[0m\u001b[0mmrn\u001b[0m \u001b[1;33m=\u001b[0m \u001b[0mmrn\u001b[0m\u001b[1;33m\u001b[0m\u001b[0m\n\u001b[1;32m     38\u001b[0m         \u001b[0mself\u001b[0m\u001b[1;33m.\u001b[0m\u001b[0mpatient_details\u001b[0m \u001b[1;33m=\u001b[0m \u001b[0mPatientDetails\u001b[0m\u001b[1;33m(\u001b[0m\u001b[0mpath\u001b[0m\u001b[1;33m)\u001b[0m\u001b[1;33m\u001b[0m\u001b[0m\n\u001b[0;32m---> 39\u001b[0;31m         \u001b[0mself\u001b[0m\u001b[1;33m.\u001b[0m\u001b[0mlast_treatment\u001b[0m \u001b[1;33m=\u001b[0m  \u001b[0mself\u001b[0m\u001b[1;33m.\u001b[0m\u001b[0mget_last_treatment\u001b[0m\u001b[1;33m(\u001b[0m\u001b[0mpath\u001b[0m\u001b[1;33m)\u001b[0m\u001b[1;33m\u001b[0m\u001b[0m\n\u001b[0m\u001b[1;32m     40\u001b[0m \u001b[1;33m\u001b[0m\u001b[0m\n\u001b[1;32m     41\u001b[0m     \u001b[1;32mdef\u001b[0m \u001b[0mget_last_treatment\u001b[0m\u001b[1;33m(\u001b[0m\u001b[0mself\u001b[0m\u001b[1;33m,\u001b[0m\u001b[0mpath\u001b[0m\u001b[1;33m)\u001b[0m\u001b[1;33m:\u001b[0m\u001b[1;33m\u001b[0m\u001b[0m\n",
      "\u001b[0;32m<ipython-input-34-c29479fa2413>\u001b[0m in \u001b[0;36mget_last_treatment\u001b[0;34m(self, path)\u001b[0m\n\u001b[1;32m     42\u001b[0m         \u001b[1;32mprint\u001b[0m \u001b[0mpath\u001b[0m\u001b[1;33m\u001b[0m\u001b[0m\n\u001b[1;32m     43\u001b[0m         \u001b[0mlist_of_reports\u001b[0m \u001b[1;33m=\u001b[0m \u001b[0mglob\u001b[0m\u001b[1;33m.\u001b[0m\u001b[0mglob\u001b[0m\u001b[1;33m(\u001b[0m\u001b[1;34m'{0}\\\\Reports\\\\*'\u001b[0m\u001b[1;33m.\u001b[0m\u001b[0mformat\u001b[0m\u001b[1;33m(\u001b[0m\u001b[0mpath\u001b[0m\u001b[1;33m)\u001b[0m\u001b[1;33m)\u001b[0m \u001b[1;31m# * means all if need specific format then *.csv\u001b[0m\u001b[1;33m\u001b[0m\u001b[0m\n\u001b[0;32m---> 44\u001b[0;31m         \u001b[0mlatest_file\u001b[0m \u001b[1;33m=\u001b[0m \u001b[0mmax\u001b[0m\u001b[1;33m(\u001b[0m\u001b[0mlist_of_reports\u001b[0m\u001b[1;33m,\u001b[0m \u001b[0mkey\u001b[0m\u001b[1;33m=\u001b[0m\u001b[0mos\u001b[0m\u001b[1;33m.\u001b[0m\u001b[0mpath\u001b[0m\u001b[1;33m.\u001b[0m\u001b[0mgetctime\u001b[0m\u001b[1;33m)\u001b[0m\u001b[1;33m\u001b[0m\u001b[0m\n\u001b[0m\u001b[1;32m     45\u001b[0m         \u001b[1;32mprint\u001b[0m \u001b[0mlatest_file\u001b[0m\u001b[1;33m\u001b[0m\u001b[0m\n\u001b[1;32m     46\u001b[0m         \u001b[1;32mreturn\u001b[0m \u001b[0mlatest_file\u001b[0m\u001b[1;33m\u001b[0m\u001b[0m\n",
      "\u001b[0;31mValueError\u001b[0m: max() arg is an empty sequence"
     ]
    }
   ],
   "source": [
    "SGRT_Patient_Tool()"
   ]
  },
  {
   "cell_type": "code",
   "execution_count": null,
   "metadata": {
    "collapsed": true
   },
   "outputs": [],
   "source": []
  }
 ],
 "metadata": {
  "anaconda-cloud": {},
  "kernelspec": {
   "display_name": "Python [conda root]",
   "language": "python",
   "name": "conda-root-py"
  },
  "language_info": {
   "codemirror_mode": {
    "name": "ipython",
    "version": 2
   },
   "file_extension": ".py",
   "mimetype": "text/x-python",
   "name": "python",
   "nbconvert_exporter": "python",
   "pygments_lexer": "ipython2",
   "version": "2.7.12"
  }
 },
 "nbformat": 4,
 "nbformat_minor": 1
}
