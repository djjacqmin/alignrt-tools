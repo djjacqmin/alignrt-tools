{
 "cells": [
  {
   "cell_type": "code",
   "execution_count": 11,
   "metadata": {
    "collapsed": false
   },
   "outputs": [],
   "source": [
    "# Import Standard Libraries\n",
    "import os.path, time\n",
    "import glob\n",
    "import pdb\n",
    "\n",
    "# Import SGRT Libraries\n",
    "import SGRTFileReaders as fs\n",
    "\n",
    "sgrt_path = ('Sample_Directory')\n",
    "\n",
    "class PatientDetails:\n",
    "    \"\"\"The PatientDeatils class contains attributes and methods for reading and storing \n",
    "    information from the 'Patient Details.ini' and 'Patient Details.vpax' files.\"\"\"\n",
    "    \n",
    "    # Attributes\n",
    "    path = [] # the full path to this patient\n",
    "    \n",
    "    # Methods\n",
    "    def __init__(self,path):\n",
    "        self.path = path\n",
    "        fs.read_PatientDetails_ini(path)\n",
    "        fs.read_PatientDetails_vpax(path)\n",
    "    \n",
    "class Patient:\n",
    "    \"\"\"The Patient class contains attributes and methods that pertain to an individual OSMS/AlignRT patient\"\"\"\n",
    "    \n",
    "    # Attributes\n",
    "    path = [] # the full path to this patient\n",
    "    mrn = [] # the MRN of this patient\n",
    "    patient_details = [] # information derived from the Patient Details files\n",
    "    last_treatment = [] # DateTime object containing the last treatment\n",
    "    \n",
    "    # Methods\n",
    "    def __init__(self,mrn,path):\n",
    "        self.path = path\n",
    "        self.mrn = mrn\n",
    "        self.patient_details = PatientDetails(path)\n",
    "        self.last_treatment =  self.get_last_treatment(path)\n",
    "        \n",
    "    def get_last_treatment(self,path):\n",
    "        print path\n",
    "        list_of_reports = glob.glob('{0}/Reports/*'.format(path)) # * means all if need specific format then *.csv\n",
    "        if not list_of_reports:\n",
    "            # list of reports is empty\n",
    "            print \"Reports is empty\"\n",
    "            return 0\n",
    "        else:\n",
    "            latest_file = max(list_of_reports, key=os.path.getctime)\n",
    "            print time.ctime(os.path.getctime(latest_file))\n",
    "            return time.ctime(os.path.getctime(latest_file))\n",
    "\n",
    "def SGRT_Patient_Tool():\n",
    "    print('Welcome to the SGRT Patient Tool')\n",
    "    \n",
    "    # Get a list of the subdirectories in the sgrt_path\n",
    "    sgrt_folders = [name for name in os.listdir(sgrt_path) if os.path.isdir(os.path.join(sgrt_path, name))]\n",
    "        \n",
    "    # Determine which of the folders correspond to patients\n",
    "    sgrt_patients = []\n",
    "    for folder in sgrt_folders:\n",
    "        if (os.path.isfile('{0}/{1}/Patient Details.ini'.format(sgrt_path,folder)) or \n",
    "            os.path.isfile('{0}/{1}/Patient_Details.ini'.format(sgrt_path,folder))):\n",
    "            sgrt_patients.append(Patient(folder,'{0}/{1}'.format(sgrt_path,folder)))\n",
    "    \n",
    "    print('There are {0} patient folders in {1}'.format(len(sgrt_patients),sgrt_path))\n",
    "    for patient in sgrt_patients:\n",
    "        print(patient.mrn)\n",
    "        print(patient.last_treatment)\n",
    "        "
   ]
  },
  {
   "cell_type": "code",
   "execution_count": 12,
   "metadata": {
    "collapsed": false
   },
   "outputs": [
    {
     "name": "stdout",
     "output_type": "stream",
     "text": [
      "Welcome to the SGRT Patient Tool\n",
      "Sample_Directory/20170307JHV\n",
      "Wed Jan 31 16:48:44 2018\n",
      "Sample_Directory/20150925ZEL\n",
      "Wed Jan 31 16:48:42 2018\n",
      "Sample_Directory/OSMS-IPA\n",
      "Wed Jan 31 16:48:47 2018\n",
      "Sample_Directory/20160804MG\n",
      "Wed Jan 31 16:48:42 2018\n",
      "Sample_Directory/20170912\n",
      "Wed Jan 31 16:48:45 2018\n",
      "Sample_Directory/20170303ZEL\n",
      "Wed Jan 31 16:48:43 2018\n",
      "Sample_Directory/SVS CAP HET\n",
      "Wed Jan 31 16:48:47 2018\n",
      "Sample_Directory/20170308\n",
      "Wed Jan 31 16:48:45 2018\n",
      "Sample_Directory/20170327DJJ\n",
      "Reports is empty\n",
      "Sample_Directory/VRTQAPhantom_\n",
      "Wed Jan 31 16:48:47 2018\n",
      "There are 10 patient folders in Sample_Directory\n",
      "20170307JHV\n",
      "Wed Jan 31 16:48:44 2018\n",
      "20150925ZEL\n",
      "Wed Jan 31 16:48:42 2018\n",
      "OSMS-IPA\n",
      "Wed Jan 31 16:48:47 2018\n",
      "20160804MG\n",
      "Wed Jan 31 16:48:42 2018\n",
      "20170912\n",
      "Wed Jan 31 16:48:45 2018\n",
      "20170303ZEL\n",
      "Wed Jan 31 16:48:43 2018\n",
      "SVS CAP HET\n",
      "Wed Jan 31 16:48:47 2018\n",
      "20170308\n",
      "Wed Jan 31 16:48:45 2018\n",
      "20170327DJJ\n",
      "0\n",
      "VRTQAPhantom_\n",
      "Wed Jan 31 16:48:47 2018\n"
     ]
    }
   ],
   "source": [
    "SGRT_Patient_Tool()"
   ]
  },
  {
   "cell_type": "code",
   "execution_count": 46,
   "metadata": {
    "collapsed": false
   },
   "outputs": [
    {
     "name": "stdout",
     "output_type": "stream",
     "text": [
      "[Patient Details]\n",
      "PatientGUID=319aadc3-481d-4dc3-bd60-bd934e0f588c\n",
      "Prefix=-\n",
      "Firstname=WinstonLutzTests\n",
      "Middlename=\n",
      "Surname=ZZUWQA\n",
      "Name=WinstonLutzTests ZZUWQA (Other)\n",
      "Skintone=0\n",
      "Version=5.0.1749.273\n",
      "Notes=\n",
      "[Treatment Site]\n",
      "Other_Notes=\n",
      "\n"
     ]
    }
   ],
   "source": [
    "thisfile = open(\"Sample_Directory/20150925ZEL/Patient_Details.ini\",'r')\n",
    "print thisfile.read()\n",
    "thisfile.close()"
   ]
  },
  {
   "cell_type": "code",
   "execution_count": 50,
   "metadata": {
    "collapsed": false
   },
   "outputs": [
    {
     "name": "stdout",
     "output_type": "stream",
     "text": [
      "{'Surname': 'ZZUWQA', 'Name': 'WinstonLutzTests ZZUWQA (Other)', 'Firstname': 'WinstonLutzTests', 'Middlename': '', 'Version': '5.0.1749.273', 'Notes': '', 'Skintone': '0', 'Prefix': '-', 'PatientGUID': '319aadc3-481d-4dc3-bd60-bd934e0f588c', 'Other_Notes': ''}\n"
     ]
    }
   ],
   "source": [
    "thisfile = open(\"Sample_Directory/20150925ZEL/Patient_Details.ini\",'r')\n",
    "\n",
    "d = {}\n",
    "\n",
    "for line in thisfile:\n",
    "    pieces = line.split('=')\n",
    "    if len(pieces) > 1:\n",
    "        d[pieces[0]] = pieces[1].split(\"\\n\")[0]\n",
    "    \n",
    "print d\n",
    "    "
   ]
  },
  {
   "cell_type": "code",
   "execution_count": null,
   "metadata": {
    "collapsed": false
   },
   "outputs": [],
   "source": []
  },
  {
   "cell_type": "code",
   "execution_count": null,
   "metadata": {
    "collapsed": true
   },
   "outputs": [],
   "source": []
  }
 ],
 "metadata": {
  "anaconda-cloud": {},
  "kernelspec": {
   "display_name": "Python [conda root]",
   "language": "python",
   "name": "conda-root-py"
  },
  "language_info": {
   "codemirror_mode": {
    "name": "ipython",
    "version": 2
   },
   "file_extension": ".py",
   "mimetype": "text/x-python",
   "name": "python",
   "nbconvert_exporter": "python",
   "pygments_lexer": "ipython2",
   "version": "2.7.12"
  }
 },
 "nbformat": 4,
 "nbformat_minor": 1
}
